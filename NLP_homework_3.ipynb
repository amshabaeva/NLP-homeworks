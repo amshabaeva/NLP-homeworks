{
 "cells": [
  {
   "cell_type": "markdown",
   "metadata": {},
   "source": [
    "## Домашнее задание по Автоматической обработке естественного языка №3\n",
    "\n",
    "### Настя Шабаева, БКЛ181\n",
    "\n",
    "### Установка SpaCy"
   ]
  },
  {
   "cell_type": "code",
   "execution_count": 2,
   "metadata": {},
   "outputs": [
    {
     "name": "stdout",
     "output_type": "stream",
     "text": [
      "Requirement already satisfied: en_core_web_sm==2.3.1 from https://github.com/explosion/spacy-models/releases/download/en_core_web_sm-2.3.1/en_core_web_sm-2.3.1.tar.gz#egg=en_core_web_sm==2.3.1 in /Library/Frameworks/Python.framework/Versions/3.7/lib/python3.7/site-packages (2.3.1)\n",
      "Requirement already satisfied: spacy<2.4.0,>=2.3.0 in /Library/Frameworks/Python.framework/Versions/3.7/lib/python3.7/site-packages (from en_core_web_sm==2.3.1) (2.3.2)\n",
      "Requirement already satisfied: thinc==7.4.1 in /Library/Frameworks/Python.framework/Versions/3.7/lib/python3.7/site-packages (from spacy<2.4.0,>=2.3.0->en_core_web_sm==2.3.1) (7.4.1)\n",
      "Requirement already satisfied: tqdm<5.0.0,>=4.38.0 in /Library/Frameworks/Python.framework/Versions/3.7/lib/python3.7/site-packages (from spacy<2.4.0,>=2.3.0->en_core_web_sm==2.3.1) (4.45.0)\n",
      "Requirement already satisfied: requests<3.0.0,>=2.13.0 in /Library/Frameworks/Python.framework/Versions/3.7/lib/python3.7/site-packages (from spacy<2.4.0,>=2.3.0->en_core_web_sm==2.3.1) (2.24.0)\n",
      "Requirement already satisfied: srsly<1.1.0,>=1.0.2 in /Library/Frameworks/Python.framework/Versions/3.7/lib/python3.7/site-packages (from spacy<2.4.0,>=2.3.0->en_core_web_sm==2.3.1) (1.0.2)\n",
      "Requirement already satisfied: catalogue<1.1.0,>=0.0.7 in /Library/Frameworks/Python.framework/Versions/3.7/lib/python3.7/site-packages (from spacy<2.4.0,>=2.3.0->en_core_web_sm==2.3.1) (1.0.0)\n",
      "Requirement already satisfied: wasabi<1.1.0,>=0.4.0 in /Library/Frameworks/Python.framework/Versions/3.7/lib/python3.7/site-packages (from spacy<2.4.0,>=2.3.0->en_core_web_sm==2.3.1) (0.8.0)\n",
      "Requirement already satisfied: plac<1.2.0,>=0.9.6 in /Library/Frameworks/Python.framework/Versions/3.7/lib/python3.7/site-packages (from spacy<2.4.0,>=2.3.0->en_core_web_sm==2.3.1) (1.1.3)\n",
      "Requirement already satisfied: murmurhash<1.1.0,>=0.28.0 in /Library/Frameworks/Python.framework/Versions/3.7/lib/python3.7/site-packages (from spacy<2.4.0,>=2.3.0->en_core_web_sm==2.3.1) (1.0.2)\n",
      "Requirement already satisfied: numpy>=1.15.0 in /Library/Frameworks/Python.framework/Versions/3.7/lib/python3.7/site-packages (from spacy<2.4.0,>=2.3.0->en_core_web_sm==2.3.1) (1.17.3)\n",
      "Requirement already satisfied: cymem<2.1.0,>=2.0.2 in /Library/Frameworks/Python.framework/Versions/3.7/lib/python3.7/site-packages (from spacy<2.4.0,>=2.3.0->en_core_web_sm==2.3.1) (2.0.3)\n",
      "Requirement already satisfied: setuptools in /Library/Frameworks/Python.framework/Versions/3.7/lib/python3.7/site-packages (from spacy<2.4.0,>=2.3.0->en_core_web_sm==2.3.1) (46.1.3)\n",
      "Requirement already satisfied: blis<0.5.0,>=0.4.0 in /Library/Frameworks/Python.framework/Versions/3.7/lib/python3.7/site-packages (from spacy<2.4.0,>=2.3.0->en_core_web_sm==2.3.1) (0.4.1)\n",
      "Requirement already satisfied: preshed<3.1.0,>=3.0.2 in /Library/Frameworks/Python.framework/Versions/3.7/lib/python3.7/site-packages (from spacy<2.4.0,>=2.3.0->en_core_web_sm==2.3.1) (3.0.2)\n",
      "Requirement already satisfied: certifi>=2017.4.17 in /Library/Frameworks/Python.framework/Versions/3.7/lib/python3.7/site-packages (from requests<3.0.0,>=2.13.0->spacy<2.4.0,>=2.3.0->en_core_web_sm==2.3.1) (2020.6.20)\n",
      "Requirement already satisfied: urllib3!=1.25.0,!=1.25.1,<1.26,>=1.21.1 in /Library/Frameworks/Python.framework/Versions/3.7/lib/python3.7/site-packages (from requests<3.0.0,>=2.13.0->spacy<2.4.0,>=2.3.0->en_core_web_sm==2.3.1) (1.25.6)\n",
      "Requirement already satisfied: chardet<4,>=3.0.2 in /Library/Frameworks/Python.framework/Versions/3.7/lib/python3.7/site-packages (from requests<3.0.0,>=2.13.0->spacy<2.4.0,>=2.3.0->en_core_web_sm==2.3.1) (3.0.4)\n",
      "Requirement already satisfied: idna<3,>=2.5 in /Library/Frameworks/Python.framework/Versions/3.7/lib/python3.7/site-packages (from requests<3.0.0,>=2.13.0->spacy<2.4.0,>=2.3.0->en_core_web_sm==2.3.1) (2.8)\n",
      "Requirement already satisfied: importlib-metadata>=0.20; python_version < \"3.8\" in /Library/Frameworks/Python.framework/Versions/3.7/lib/python3.7/site-packages (from catalogue<1.1.0,>=0.0.7->spacy<2.4.0,>=2.3.0->en_core_web_sm==2.3.1) (2.0.0)\n",
      "Requirement already satisfied: zipp>=0.5 in /Library/Frameworks/Python.framework/Versions/3.7/lib/python3.7/site-packages (from importlib-metadata>=0.20; python_version < \"3.8\"->catalogue<1.1.0,>=0.0.7->spacy<2.4.0,>=2.3.0->en_core_web_sm==2.3.1) (3.3.0)\n",
      "\u001b[38;5;2m✔ Download and installation successful\u001b[0m\n",
      "You can now load the model via spacy.load('en_core_web_sm')\n",
      "\u001b[38;5;2m✔ Linking successful\u001b[0m\n",
      "/Library/Frameworks/Python.framework/Versions/3.7/lib/python3.7/site-packages/en_core_web_sm\n",
      "-->\n",
      "/Library/Frameworks/Python.framework/Versions/3.7/lib/python3.7/site-packages/spacy/data/en\n",
      "You can now load the model via spacy.load('en')\n"
     ]
    }
   ],
   "source": [
    "!python3 -m spacy download en"
   ]
  },
  {
   "cell_type": "markdown",
   "metadata": {},
   "source": [
    "###  Импорт всего необходимого"
   ]
  },
  {
   "cell_type": "code",
   "execution_count": 84,
   "metadata": {},
   "outputs": [
    {
     "name": "stderr",
     "output_type": "stream",
     "text": [
      "[nltk_data] Downloading package stopwords to /Library/Frameworks/Pytho\n",
      "[nltk_data]     n.framework/Versions/3.7/lib/nltk_data...\n",
      "[nltk_data]   Package stopwords is already up-to-date!\n"
     ]
    }
   ],
   "source": [
    "import re\n",
    "import pandas as pd\n",
    "from pprint import pprint\n",
    "\n",
    "\n",
    "import gensim\n",
    "import gensim.corpora as corpora\n",
    "from gensim.utils import simple_preprocess\n",
    "from gensim.models import CoherenceModel\n",
    "from gensim.models.ldamodel import LdaModel\n",
    "\n",
    "import spacy\n",
    "\n",
    "import nltk; nltk.download('stopwords')\n",
    "from collections import Counter\n",
    "import math\n",
    "import matplotlib.pyplot as plt\n",
    "%matplotlib inline"
   ]
  },
  {
   "cell_type": "markdown",
   "metadata": {},
   "source": [
    "### Подготавливаем стоп-слова"
   ]
  },
  {
   "cell_type": "code",
   "execution_count": 4,
   "metadata": {},
   "outputs": [],
   "source": [
    "from nltk.corpus import stopwords\n",
    "stop_words = stopwords.words('english')\n",
    "stop_words.extend(['from', 'subject', 're', 'edu', 'use'])"
   ]
  },
  {
   "cell_type": "markdown",
   "metadata": {},
   "source": [
    "### Скачиваем днные в таблицу"
   ]
  },
  {
   "cell_type": "code",
   "execution_count": 5,
   "metadata": {},
   "outputs": [
    {
     "data": {
      "text/html": [
       "<div>\n",
       "<style scoped>\n",
       "    .dataframe tbody tr th:only-of-type {\n",
       "        vertical-align: middle;\n",
       "    }\n",
       "\n",
       "    .dataframe tbody tr th {\n",
       "        vertical-align: top;\n",
       "    }\n",
       "\n",
       "    .dataframe thead th {\n",
       "        text-align: right;\n",
       "    }\n",
       "</style>\n",
       "<table border=\"1\" class=\"dataframe\">\n",
       "  <thead>\n",
       "    <tr style=\"text-align: right;\">\n",
       "      <th></th>\n",
       "      <th>content</th>\n",
       "      <th>target</th>\n",
       "      <th>target_names</th>\n",
       "    </tr>\n",
       "  </thead>\n",
       "  <tbody>\n",
       "    <tr>\n",
       "      <td>0</td>\n",
       "      <td>From: lerxst@wam.umd.edu (where's my thing)\\nS...</td>\n",
       "      <td>7</td>\n",
       "      <td>rec.autos</td>\n",
       "    </tr>\n",
       "    <tr>\n",
       "      <td>1</td>\n",
       "      <td>From: guykuo@carson.u.washington.edu (Guy Kuo)...</td>\n",
       "      <td>4</td>\n",
       "      <td>comp.sys.mac.hardware</td>\n",
       "    </tr>\n",
       "    <tr>\n",
       "      <td>2</td>\n",
       "      <td>From: twillis@ec.ecn.purdue.edu (Thomas E Will...</td>\n",
       "      <td>4</td>\n",
       "      <td>comp.sys.mac.hardware</td>\n",
       "    </tr>\n",
       "    <tr>\n",
       "      <td>3</td>\n",
       "      <td>From: jgreen@amber (Joe Green)\\nSubject: Re: W...</td>\n",
       "      <td>1</td>\n",
       "      <td>comp.graphics</td>\n",
       "    </tr>\n",
       "    <tr>\n",
       "      <td>4</td>\n",
       "      <td>From: jcm@head-cfa.harvard.edu (Jonathan McDow...</td>\n",
       "      <td>14</td>\n",
       "      <td>sci.space</td>\n",
       "    </tr>\n",
       "  </tbody>\n",
       "</table>\n",
       "</div>"
      ],
      "text/plain": [
       "                                             content  target  \\\n",
       "0  From: lerxst@wam.umd.edu (where's my thing)\\nS...       7   \n",
       "1  From: guykuo@carson.u.washington.edu (Guy Kuo)...       4   \n",
       "2  From: twillis@ec.ecn.purdue.edu (Thomas E Will...       4   \n",
       "3  From: jgreen@amber (Joe Green)\\nSubject: Re: W...       1   \n",
       "4  From: jcm@head-cfa.harvard.edu (Jonathan McDow...      14   \n",
       "\n",
       "            target_names  \n",
       "0              rec.autos  \n",
       "1  comp.sys.mac.hardware  \n",
       "2  comp.sys.mac.hardware  \n",
       "3          comp.graphics  \n",
       "4              sci.space  "
      ]
     },
     "execution_count": 5,
     "metadata": {},
     "output_type": "execute_result"
    }
   ],
   "source": [
    "# скачиваем данные\n",
    "df = pd.read_json('https://raw.githubusercontent.com/selva86/datasets/master/newsgroups.json')\n",
    "\n",
    "df.head()"
   ]
  },
  {
   "cell_type": "markdown",
   "metadata": {},
   "source": [
    "### Обработка текста\n",
    "\n",
    "Тексты из таблица добавляем в список, убираем из них почтовые адреса, лишние кавычки, всякие символы типа переноса строк меняем на пробелы."
   ]
  },
  {
   "cell_type": "code",
   "execution_count": 6,
   "metadata": {},
   "outputs": [
    {
     "name": "stdout",
     "output_type": "stream",
     "text": [
      "['From: (wheres my thing) Subject: WHAT car is this!? Nntp-Posting-Host: '\n",
      " 'rac3.wam.umd.edu Organization: University of Maryland, College Park Lines: '\n",
      " '15 I was wondering if anyone out there could enlighten me on this car I saw '\n",
      " 'the other day. It was a 2-door sports car, looked to be from the late 60s/ '\n",
      " 'early 70s. It was called a Bricklin. The doors were really small. In '\n",
      " 'addition, the front bumper was separate from the rest of the body. This is '\n",
      " 'all I know. If anyone can tellme a model name, engine specs, years of '\n",
      " 'production, where this car is made, history, or whatever info you have on '\n",
      " 'this funky looking car, please e-mail. Thanks, - IL ---- brought to you by '\n",
      " 'your neighborhood Lerxst ---- ']\n"
     ]
    }
   ],
   "source": [
    "data = df.content.values.tolist() # тексты из датафрейма кладем в список\n",
    "\n",
    "data = [re.sub('\\S*@\\S*\\s?', '', sent) for sent in data] # убираем почтовые адреса\n",
    "\n",
    "data = [re.sub('\\s+', ' ', sent) for sent in data] # меняем все пробельные символы (новая строка и тд) на пробелы\n",
    "\n",
    "data = [re.sub(\"\\'\", \"\", sent) for sent in data]# убираем одинарные кавычки\n",
    "\n",
    "pprint(data[:1])"
   ]
  },
  {
   "cell_type": "markdown",
   "metadata": {},
   "source": [
    "### Предложения -> слова"
   ]
  },
  {
   "cell_type": "code",
   "execution_count": 7,
   "metadata": {},
   "outputs": [],
   "source": [
    "def sent_to_words(sentences):\n",
    "    for sentence in sentences:\n",
    "        yield(gensim.utils.simple_preprocess(str(sentence), deacc=True))  # deacc=True removes punctuations"
   ]
  },
  {
   "cell_type": "code",
   "execution_count": 8,
   "metadata": {
    "scrolled": true
   },
   "outputs": [
    {
     "name": "stdout",
     "output_type": "stream",
     "text": [
      "[['from', 'wheres', 'my', 'thing', 'subject', 'what', 'car', 'is', 'this', 'nntp', 'posting', 'host', 'rac', 'wam', 'umd', 'edu', 'organization', 'university', 'of', 'maryland', 'college', 'park', 'lines', 'was', 'wondering', 'if', 'anyone', 'out', 'there', 'could', 'enlighten', 'me', 'on', 'this', 'car', 'saw', 'the', 'other', 'day', 'it', 'was', 'door', 'sports', 'car', 'looked', 'to', 'be', 'from', 'the', 'late', 'early', 'it', 'was', 'called', 'bricklin', 'the', 'doors', 'were', 'really', 'small', 'in', 'addition', 'the', 'front', 'bumper', 'was', 'separate', 'from', 'the', 'rest', 'of', 'the', 'body', 'this', 'is', 'all', 'know', 'if', 'anyone', 'can', 'tellme', 'model', 'name', 'engine', 'specs', 'years', 'of', 'production', 'where', 'this', 'car', 'is', 'made', 'history', 'or', 'whatever', 'info', 'you', 'have', 'on', 'this', 'funky', 'looking', 'car', 'please', 'mail', 'thanks', 'il', 'brought', 'to', 'you', 'by', 'your', 'neighborhood', 'lerxst']]\n"
     ]
    }
   ],
   "source": [
    "data_words = list(sent_to_words(data))\n",
    "print(data_words[:1])"
   ]
  },
  {
   "cell_type": "markdown",
   "metadata": {},
   "source": [
    "### Добавляем биграммы и триграммы"
   ]
  },
  {
   "cell_type": "code",
   "execution_count": 9,
   "metadata": {},
   "outputs": [
    {
     "name": "stdout",
     "output_type": "stream",
     "text": [
      "['from', 'wheres', 'my', 'thing', 'subject', 'what', 'car', 'is', 'this', 'nntp_posting_host', 'rac_wam_umd_edu', 'organization', 'university', 'of', 'maryland_college_park', 'lines', 'was', 'wondering', 'if', 'anyone', 'out', 'there', 'could', 'enlighten', 'me', 'on', 'this', 'car', 'saw', 'the', 'other', 'day', 'it', 'was', 'door', 'sports', 'car', 'looked', 'to', 'be', 'from', 'the', 'late', 'early', 'it', 'was', 'called', 'bricklin', 'the', 'doors', 'were', 'really', 'small', 'in', 'addition', 'the', 'front_bumper', 'was', 'separate', 'from', 'the', 'rest', 'of', 'the', 'body', 'this', 'is', 'all', 'know', 'if', 'anyone', 'can', 'tellme', 'model', 'name', 'engine', 'specs', 'years', 'of', 'production', 'where', 'this', 'car', 'is', 'made', 'history', 'or', 'whatever', 'info', 'you', 'have', 'on', 'this', 'funky', 'looking', 'car', 'please', 'mail', 'thanks', 'il', 'brought', 'to', 'you', 'by', 'your', 'neighborhood', 'lerxst']\n"
     ]
    }
   ],
   "source": [
    "# Build the bigram and trigram models\n",
    "bigram = gensim.models.Phrases(data_words, min_count=5, threshold=100) # higher threshold fewer phrases.\n",
    "\n",
    "trigram = gensim.models.Phrases(bigram[data_words], threshold=100)  \n",
    "\n",
    "# Faster way to get a sentence clubbed as a trigram/bigram\n",
    "bigram_mod = gensim.models.phrases.Phraser(bigram)\n",
    "trigram_mod = gensim.models.phrases.Phraser(trigram)\n",
    "\n",
    "# See trigram example\n",
    "print(trigram_mod[bigram_mod[data_words[0]]])"
   ]
  },
  {
   "cell_type": "markdown",
   "metadata": {},
   "source": [
    "###  Функции, чтобы убрать стоп-слова, чтобы создать биграммы и триграммы, лемматизировать слова и оставить только существительные, прилагательные, глаголы и наречия"
   ]
  },
  {
   "cell_type": "code",
   "execution_count": 10,
   "metadata": {},
   "outputs": [],
   "source": [
    "def remove_stopwords(texts):\n",
    "    return [[word for word in simple_preprocess(str(doc)) if word not in stop_words] for doc in texts]\n",
    "\n",
    "def make_bigrams(texts):\n",
    "    return [bigram_mod[doc] for doc in texts]\n",
    "\n",
    "def make_trigrams(texts):\n",
    "    return [trigram_mod[bigram_mod[doc]] for doc in texts]\n",
    "\n",
    "def lemmatization(texts, allowed_postags=['NOUN', 'ADJ', 'VERB', 'ADV']):\n",
    "    texts_out = []\n",
    "    for sent in texts:\n",
    "        doc = nlp(\" \".join(sent)) \n",
    "        texts_out.append([token.lemma_ for token in doc if token.pos_ in allowed_postags])\n",
    "    return texts_out"
   ]
  },
  {
   "cell_type": "markdown",
   "metadata": {},
   "source": [
    "### Применение описанных ранее функций"
   ]
  },
  {
   "cell_type": "code",
   "execution_count": 11,
   "metadata": {},
   "outputs": [
    {
     "name": "stdout",
     "output_type": "stream",
     "text": [
      "[['where', 'thing', 'car', 'nntp_poste', 'host', 'park', 'line', 'wonder', 'could', 'enlighten', 'car', 'see', 'day', 'door', 'sport', 'car', 'look', 'late', 'early', 'call', 'door', 'really', 'small', 'addition', 'separate', 'rest', 'body', 'know', 'model', 'name', 'engine', 'spec', 'year', 'production', 'car', 'make', 'history', 'info', 'funky', 'look', 'car', 'mail', 'thank', 'bring', 'neighborhood', 'lerxst']]\n"
     ]
    }
   ],
   "source": [
    "data_words_nostops = remove_stopwords(data_words)\n",
    "\n",
    "data_words_bigrams = make_bigrams(data_words_nostops)\n",
    "\n",
    "nlp = spacy.load('en', disable=['parser', 'ner'])\n",
    "\n",
    "data_lemmatized = lemmatization(data_words_bigrams, allowed_postags=['NOUN', 'ADJ', 'VERB', 'ADV'])\n",
    "\n",
    "print(data_lemmatized[:1])"
   ]
  },
  {
   "cell_type": "markdown",
   "metadata": {},
   "source": [
    "### Создаем словарь и корпус"
   ]
  },
  {
   "cell_type": "code",
   "execution_count": 12,
   "metadata": {},
   "outputs": [
    {
     "name": "stdout",
     "output_type": "stream",
     "text": [
      "[[(0, 1), (1, 1), (2, 1), (3, 1), (4, 5), (5, 1), (6, 1), (7, 2), (8, 1), (9, 1), (10, 1), (11, 1), (12, 1), (13, 1), (14, 1), (15, 1), (16, 1), (17, 1), (18, 1), (19, 2), (20, 1), (21, 1), (22, 1), (23, 1), (24, 1), (25, 1), (26, 1), (27, 1), (28, 1), (29, 1), (30, 1), (31, 1), (32, 1), (33, 1), (34, 1), (35, 1), (36, 1), (37, 1), (38, 1), (39, 1)]]\n"
     ]
    }
   ],
   "source": [
    "id2word = corpora.Dictionary(data_lemmatized)\n",
    "\n",
    "texts = data_lemmatized\n",
    "\n",
    "corpus = [id2word.doc2bow(text) for text in texts]\n",
    "\n",
    "print(corpus[:1])"
   ]
  },
  {
   "cell_type": "markdown",
   "metadata": {},
   "source": [
    " ### Обучаем модель (и печатаем топики, которые она выдаст)"
   ]
  },
  {
   "cell_type": "code",
   "execution_count": 13,
   "metadata": {},
   "outputs": [],
   "source": [
    "lda_model = gensim.models.ldamodel.LdaModel(corpus=corpus,\n",
    "                                           id2word=id2word,\n",
    "                                           num_topics=20, \n",
    "                                           random_state=100,\n",
    "                                           update_every=1,\n",
    "                                           chunksize=100,\n",
    "                                           passes=10,\n",
    "                                           alpha='auto',\n",
    "                                           per_word_topics=True)"
   ]
  },
  {
   "cell_type": "code",
   "execution_count": 14,
   "metadata": {
    "scrolled": true
   },
   "outputs": [
    {
     "data": {
      "text/plain": [
       "[(0,\n",
       "  '0.175*\"file\" + 0.073*\"entry\" + 0.057*\"error\" + 0.053*\"display\" + 0.040*\"program\" + 0.030*\"sun\" + 0.025*\"version\" + 0.024*\"cool\" + 0.020*\"output\" + 0.020*\"crash\"'),\n",
       " (1,\n",
       "  '0.032*\"would\" + 0.026*\"say\" + 0.022*\"think\" + 0.022*\"people\" + 0.020*\"go\" + 0.018*\"know\" + 0.016*\"make\" + 0.016*\"see\" + 0.014*\"come\" + 0.013*\"thing\"'),\n",
       " (2,\n",
       "  '0.091*\"evidence\" + 0.048*\"book\" + 0.041*\"faith\" + 0.037*\"reason\" + 0.033*\"exist\" + 0.032*\"claim\" + 0.031*\"religion\" + 0.029*\"believe\" + 0.027*\"christian\" + 0.023*\"church\"'),\n",
       " (3,\n",
       "  '0.541*\"ax\" + 0.054*\"car\" + 0.028*\"player\" + 0.014*\"engine\" + 0.009*\"dealer\" + 0.009*\"mile\" + 0.009*\"expensive\" + 0.009*\"here\" + 0.008*\"extra\" + 0.008*\"specify\"'),\n",
       " (4,\n",
       "  '0.087*\"belief\" + 0.084*\"internet\" + 0.079*\"atheist\" + 0.061*\"distribution\" + 0.053*\"wing\" + 0.041*\"atheism\" + 0.038*\"printer\" + 0.034*\"interface\" + 0.026*\"multiple\" + 0.020*\"thinking\"'),\n",
       " (5,\n",
       "  '0.088*\"normal\" + 0.072*\"port\" + 0.071*\"mouse\" + 0.053*\"hole\" + 0.036*\"cap\" + 0.034*\"expansion\" + 0.033*\"default\" + 0.026*\"compute\" + 0.026*\"noise\" + 0.013*\"characteristic\"'),\n",
       " (6,\n",
       "  '0.034*\"include\" + 0.023*\"provide\" + 0.023*\"report\" + 0.021*\"receive\" + 0.021*\"follow\" + 0.021*\"name\" + 0.018*\"build\" + 0.017*\"return\" + 0.015*\"open\" + 0.014*\"suggest\"'),\n",
       " (7,\n",
       "  '0.123*\"chip\" + 0.074*\"bit\" + 0.072*\"speed\" + 0.060*\"device\" + 0.058*\"tape\" + 0.052*\"slow\" + 0.040*\"bus\" + 0.038*\"scsi\" + 0.037*\"direct\" + 0.036*\"mode\"'),\n",
       " (8,\n",
       "  '0.152*\"team\" + 0.103*\"play\" + 0.059*\"year\" + 0.053*\"season\" + 0.045*\"fan\" + 0.036*\"trade\" + 0.026*\"pen\" + 0.023*\"lose\" + 0.021*\"last\" + 0.016*\"next\"'),\n",
       " (9,\n",
       "  '0.021*\"year\" + 0.016*\"also\" + 0.014*\"may\" + 0.014*\"first\" + 0.011*\"work\" + 0.010*\"high\" + 0.010*\"talk\" + 0.009*\"make\" + 0.009*\"case\" + 0.009*\"power\"'),\n",
       " (10,\n",
       "  '0.052*\"system\" + 0.050*\"drive\" + 0.041*\"use\" + 0.038*\"run\" + 0.034*\"problem\" + 0.028*\"window\" + 0.027*\"card\" + 0.024*\"program\" + 0.021*\"driver\" + 0.021*\"software\"'),\n",
       " (11,\n",
       "  '0.085*\"space\" + 0.053*\"science\" + 0.024*\"scientific\" + 0.024*\"review\" + 0.023*\"orbit\" + 0.023*\"launch\" + 0.022*\"earth\" + 0.021*\"mission\" + 0.020*\"development\" + 0.019*\"vehicle\"'),\n",
       " (12,\n",
       "  '0.140*\"game\" + 0.116*\"gun\" + 0.070*\"win\" + 0.048*\"fire\" + 0.047*\"hit\" + 0.036*\"weapon\" + 0.035*\"shoot\" + 0.024*\"cop\" + 0.019*\"run\" + 0.017*\"carry\"'),\n",
       " (13,\n",
       "  '0.124*\"god\" + 0.110*\"patient\" + 0.054*\"license\" + 0.050*\"univ\" + 0.048*\"treatment\" + 0.042*\"disease\" + 0.035*\"medical\" + 0.033*\"health\" + 0.027*\"ticket\" + 0.020*\"deliver\"'),\n",
       " (14,\n",
       "  '0.040*\"kill\" + 0.030*\"israeli\" + 0.028*\"war\" + 0.027*\"soldier\" + 0.024*\"attack\" + 0.024*\"village\" + 0.023*\"child\" + 0.021*\"murder\" + 0.016*\"turkish\" + 0.016*\"force\"'),\n",
       " (15,\n",
       "  '0.098*\"goal\" + 0.077*\"moral\" + 0.059*\"animal\" + 0.046*\"link\" + 0.034*\"morality\" + 0.029*\"warrant\" + 0.028*\"scale\" + 0.027*\"relationship\" + 0.026*\"depth\" + 0.024*\"percentage\"'),\n",
       " (16,\n",
       "  '0.049*\"image\" + 0.046*\"color\" + 0.040*\"code\" + 0.038*\"source\" + 0.038*\"com\" + 0.031*\"available\" + 0.030*\"server\" + 0.028*\"format\" + 0.026*\"function\" + 0.024*\"information\"'),\n",
       " (17,\n",
       "  '0.111*\"motif\" + 0.067*\"session\" + 0.048*\"unknown\" + 0.028*\"moslem\" + 0.021*\"ruin\" + 0.020*\"testing\" + 0.019*\"ratio\" + 0.017*\"okay\" + 0.005*\"verification\" + 0.005*\"automate\"'),\n",
       " (18,\n",
       "  '0.074*\"line\" + 0.047*\"write\" + 0.030*\"article\" + 0.024*\"host\" + 0.022*\"nntp_poste\" + 0.022*\"organization\" + 0.021*\"get\" + 0.019*\"be\" + 0.016*\"need\" + 0.014*\"thank\"'),\n",
       " (19,\n",
       "  '0.030*\"key\" + 0.027*\"state\" + 0.021*\"law\" + 0.020*\"government\" + 0.018*\"issue\" + 0.017*\"public\" + 0.014*\"right\" + 0.013*\"use\" + 0.011*\"system\" + 0.010*\"case\"')]"
      ]
     },
     "execution_count": 14,
     "metadata": {},
     "output_type": "execute_result"
    }
   ],
   "source": [
    "lda_model.print_topics()"
   ]
  },
  {
   "cell_type": "markdown",
   "metadata": {},
   "source": [
    "### Подсчет когерентности модели"
   ]
  },
  {
   "cell_type": "code",
   "execution_count": 15,
   "metadata": {},
   "outputs": [
    {
     "name": "stdout",
     "output_type": "stream",
     "text": [
      "\n",
      "Coherence Score:  0.49288861569721343\n"
     ]
    }
   ],
   "source": [
    "coherence_model_lda = CoherenceModel(model=lda_model, texts=data_lemmatized, dictionary=id2word, coherence='c_v')\n",
    "coherence_lda = coherence_model_lda.get_coherence()\n",
    "print('\\nCoherence Score: ', coherence_lda)"
   ]
  },
  {
   "cell_type": "markdown",
   "metadata": {},
   "source": [
    "### Попытка установить mallet\n",
    "\n",
    "Неудачная, как выяснилось, из-за старой версии java на компьютере"
   ]
  },
  {
   "cell_type": "code",
   "execution_count": 71,
   "metadata": {},
   "outputs": [
    {
     "ename": "CalledProcessError",
     "evalue": "Command '/Users/macbook/mallet-2.0.8/bin/mallet import-file --preserve-case --keep-sequence --remove-stopwords --token-regex \"\\S+\" --input /var/folders/ft/yj1cv23d74zgpvxgg4m_f5fc0000gp/T/e829b3_corpus.txt --output /var/folders/ft/yj1cv23d74zgpvxgg4m_f5fc0000gp/T/e829b3_corpus.mallet' returned non-zero exit status 1.",
     "output_type": "error",
     "traceback": [
      "\u001b[0;31m---------------------------------------------------------------------------\u001b[0m",
      "\u001b[0;31mCalledProcessError\u001b[0m                        Traceback (most recent call last)",
      "\u001b[0;32m<ipython-input-71-d76e34847314>\u001b[0m in \u001b[0;36m<module>\u001b[0;34m\u001b[0m\n\u001b[1;32m      5\u001b[0m \u001b[0mmallet_path\u001b[0m \u001b[0;34m=\u001b[0m \u001b[0;34m'/Users/macbook/mallet-2.0.8/bin/mallet'\u001b[0m\u001b[0;34m\u001b[0m\u001b[0m\n\u001b[1;32m      6\u001b[0m \u001b[0;34m\u001b[0m\u001b[0m\n\u001b[0;32m----> 7\u001b[0;31m \u001b[0mldamallet\u001b[0m \u001b[0;34m=\u001b[0m \u001b[0mgensim\u001b[0m\u001b[0;34m.\u001b[0m\u001b[0mmodels\u001b[0m\u001b[0;34m.\u001b[0m\u001b[0mwrappers\u001b[0m\u001b[0;34m.\u001b[0m\u001b[0mLdaMallet\u001b[0m\u001b[0;34m(\u001b[0m\u001b[0mmallet_path\u001b[0m\u001b[0;34m,\u001b[0m \u001b[0mcorpus\u001b[0m\u001b[0;34m=\u001b[0m\u001b[0mcorpus\u001b[0m\u001b[0;34m,\u001b[0m \u001b[0mnum_topics\u001b[0m\u001b[0;34m=\u001b[0m\u001b[0;36m20\u001b[0m\u001b[0;34m,\u001b[0m \u001b[0mid2word\u001b[0m\u001b[0;34m=\u001b[0m\u001b[0mid2word\u001b[0m\u001b[0;34m)\u001b[0m\u001b[0;34m\u001b[0m\u001b[0m\n\u001b[0m",
      "\u001b[0;32m/Library/Frameworks/Python.framework/Versions/3.7/lib/python3.7/site-packages/gensim/models/wrappers/ldamallet.py\u001b[0m in \u001b[0;36m__init__\u001b[0;34m(self, mallet_path, corpus, num_topics, alpha, id2word, workers, prefix, optimize_interval, iterations, topic_threshold, random_seed)\u001b[0m\n\u001b[1;32m    129\u001b[0m         \u001b[0mself\u001b[0m\u001b[0;34m.\u001b[0m\u001b[0mrandom_seed\u001b[0m \u001b[0;34m=\u001b[0m \u001b[0mrandom_seed\u001b[0m\u001b[0;34m\u001b[0m\u001b[0m\n\u001b[1;32m    130\u001b[0m         \u001b[0;32mif\u001b[0m \u001b[0mcorpus\u001b[0m \u001b[0;32mis\u001b[0m \u001b[0;32mnot\u001b[0m \u001b[0;32mNone\u001b[0m\u001b[0;34m:\u001b[0m\u001b[0;34m\u001b[0m\u001b[0m\n\u001b[0;32m--> 131\u001b[0;31m             \u001b[0mself\u001b[0m\u001b[0;34m.\u001b[0m\u001b[0mtrain\u001b[0m\u001b[0;34m(\u001b[0m\u001b[0mcorpus\u001b[0m\u001b[0;34m)\u001b[0m\u001b[0;34m\u001b[0m\u001b[0m\n\u001b[0m\u001b[1;32m    132\u001b[0m \u001b[0;34m\u001b[0m\u001b[0m\n\u001b[1;32m    133\u001b[0m     \u001b[0;32mdef\u001b[0m \u001b[0mfinferencer\u001b[0m\u001b[0;34m(\u001b[0m\u001b[0mself\u001b[0m\u001b[0;34m)\u001b[0m\u001b[0;34m:\u001b[0m\u001b[0;34m\u001b[0m\u001b[0m\n",
      "\u001b[0;32m/Library/Frameworks/Python.framework/Versions/3.7/lib/python3.7/site-packages/gensim/models/wrappers/ldamallet.py\u001b[0m in \u001b[0;36mtrain\u001b[0;34m(self, corpus)\u001b[0m\n\u001b[1;32m    270\u001b[0m \u001b[0;34m\u001b[0m\u001b[0m\n\u001b[1;32m    271\u001b[0m         \"\"\"\n\u001b[0;32m--> 272\u001b[0;31m         \u001b[0mself\u001b[0m\u001b[0;34m.\u001b[0m\u001b[0mconvert_input\u001b[0m\u001b[0;34m(\u001b[0m\u001b[0mcorpus\u001b[0m\u001b[0;34m,\u001b[0m \u001b[0minfer\u001b[0m\u001b[0;34m=\u001b[0m\u001b[0;32mFalse\u001b[0m\u001b[0;34m)\u001b[0m\u001b[0;34m\u001b[0m\u001b[0m\n\u001b[0m\u001b[1;32m    273\u001b[0m         \u001b[0mcmd\u001b[0m \u001b[0;34m=\u001b[0m \u001b[0mself\u001b[0m\u001b[0;34m.\u001b[0m\u001b[0mmallet_path\u001b[0m \u001b[0;34m+\u001b[0m \u001b[0;34m' train-topics --input %s --num-topics %s  --alpha %s --optimize-interval %s '\u001b[0m\u001b[0;31m\\\u001b[0m\u001b[0;34m\u001b[0m\u001b[0m\n\u001b[1;32m    274\u001b[0m             \u001b[0;34m'--num-threads %s --output-state %s --output-doc-topics %s --output-topic-keys %s '\u001b[0m\u001b[0;31m\\\u001b[0m\u001b[0;34m\u001b[0m\u001b[0m\n",
      "\u001b[0;32m/Library/Frameworks/Python.framework/Versions/3.7/lib/python3.7/site-packages/gensim/models/wrappers/ldamallet.py\u001b[0m in \u001b[0;36mconvert_input\u001b[0;34m(self, corpus, infer, serialize_corpus)\u001b[0m\n\u001b[1;32m    259\u001b[0m             \u001b[0mcmd\u001b[0m \u001b[0;34m=\u001b[0m \u001b[0mcmd\u001b[0m \u001b[0;34m%\u001b[0m \u001b[0;34m(\u001b[0m\u001b[0mself\u001b[0m\u001b[0;34m.\u001b[0m\u001b[0mfcorpustxt\u001b[0m\u001b[0;34m(\u001b[0m\u001b[0;34m)\u001b[0m\u001b[0;34m,\u001b[0m \u001b[0mself\u001b[0m\u001b[0;34m.\u001b[0m\u001b[0mfcorpusmallet\u001b[0m\u001b[0;34m(\u001b[0m\u001b[0;34m)\u001b[0m\u001b[0;34m)\u001b[0m\u001b[0;34m\u001b[0m\u001b[0m\n\u001b[1;32m    260\u001b[0m         \u001b[0mlogger\u001b[0m\u001b[0;34m.\u001b[0m\u001b[0minfo\u001b[0m\u001b[0;34m(\u001b[0m\u001b[0;34m\"converting temporary corpus to MALLET format with %s\"\u001b[0m\u001b[0;34m,\u001b[0m \u001b[0mcmd\u001b[0m\u001b[0;34m)\u001b[0m\u001b[0;34m\u001b[0m\u001b[0m\n\u001b[0;32m--> 261\u001b[0;31m         \u001b[0mcheck_output\u001b[0m\u001b[0;34m(\u001b[0m\u001b[0margs\u001b[0m\u001b[0;34m=\u001b[0m\u001b[0mcmd\u001b[0m\u001b[0;34m,\u001b[0m \u001b[0mshell\u001b[0m\u001b[0;34m=\u001b[0m\u001b[0;32mTrue\u001b[0m\u001b[0;34m)\u001b[0m\u001b[0;34m\u001b[0m\u001b[0m\n\u001b[0m\u001b[1;32m    262\u001b[0m \u001b[0;34m\u001b[0m\u001b[0m\n\u001b[1;32m    263\u001b[0m     \u001b[0;32mdef\u001b[0m \u001b[0mtrain\u001b[0m\u001b[0;34m(\u001b[0m\u001b[0mself\u001b[0m\u001b[0;34m,\u001b[0m \u001b[0mcorpus\u001b[0m\u001b[0;34m)\u001b[0m\u001b[0;34m:\u001b[0m\u001b[0;34m\u001b[0m\u001b[0m\n",
      "\u001b[0;32m/Library/Frameworks/Python.framework/Versions/3.7/lib/python3.7/site-packages/gensim/utils.py\u001b[0m in \u001b[0;36mcheck_output\u001b[0;34m(stdout, *popenargs, **kwargs)\u001b[0m\n\u001b[1;32m   1916\u001b[0m             \u001b[0merror\u001b[0m \u001b[0;34m=\u001b[0m \u001b[0msubprocess\u001b[0m\u001b[0;34m.\u001b[0m\u001b[0mCalledProcessError\u001b[0m\u001b[0;34m(\u001b[0m\u001b[0mretcode\u001b[0m\u001b[0;34m,\u001b[0m \u001b[0mcmd\u001b[0m\u001b[0;34m)\u001b[0m\u001b[0;34m\u001b[0m\u001b[0m\n\u001b[1;32m   1917\u001b[0m             \u001b[0merror\u001b[0m\u001b[0;34m.\u001b[0m\u001b[0moutput\u001b[0m \u001b[0;34m=\u001b[0m \u001b[0moutput\u001b[0m\u001b[0;34m\u001b[0m\u001b[0m\n\u001b[0;32m-> 1918\u001b[0;31m             \u001b[0;32mraise\u001b[0m \u001b[0merror\u001b[0m\u001b[0;34m\u001b[0m\u001b[0m\n\u001b[0m\u001b[1;32m   1919\u001b[0m         \u001b[0;32mreturn\u001b[0m \u001b[0moutput\u001b[0m\u001b[0;34m\u001b[0m\u001b[0m\n\u001b[1;32m   1920\u001b[0m     \u001b[0;32mexcept\u001b[0m \u001b[0mKeyboardInterrupt\u001b[0m\u001b[0;34m:\u001b[0m\u001b[0;34m\u001b[0m\u001b[0m\n",
      "\u001b[0;31mCalledProcessError\u001b[0m: Command '/Users/macbook/mallet-2.0.8/bin/mallet import-file --preserve-case --keep-sequence --remove-stopwords --token-regex \"\\S+\" --input /var/folders/ft/yj1cv23d74zgpvxgg4m_f5fc0000gp/T/e829b3_corpus.txt --output /var/folders/ft/yj1cv23d74zgpvxgg4m_f5fc0000gp/T/e829b3_corpus.mallet' returned non-zero exit status 1."
     ]
    }
   ],
   "source": [
    "import os\n",
    "\n",
    "os.environ['MALLET_HOME'] = '/Users/macbook/mallet-2.0.8/bin/'\n",
    "\n",
    "mallet_path = '/Users/macbook/mallet-2.0.8/bin/mallet'\n",
    "\n",
    "ldamallet = gensim.models.wrappers.LdaMallet(mallet_path, corpus=corpus, num_topics=20, id2word=id2word)"
   ]
  },
  {
   "cell_type": "markdown",
   "metadata": {},
   "source": [
    "### Функция, которая поможет определить оптимальное количество топиков\n",
    "\n",
    "Алгоритм: создать несколько моделей с разным количеством топиков, посчитать для каждой когерентность и выбрать ту модель, где когерентность больше.\n",
    "\n",
    "Для наглядности я решила не считать сразу максимальную когерентность в функции, а вывести график, показывающий как она меняется в зависимости от количества топиков\n",
    "\n",
    "Результат мне показался немного странным: чем меньше топиков, тем точнее модель... Возможно, где-то есть моя ошибка, но я не понимаю где\n",
    "\n",
    "Я решила не выбирать наименьшее число топиков. Для дальнейшей работы взяла 10."
   ]
  },
  {
   "cell_type": "code",
   "execution_count": 81,
   "metadata": {},
   "outputs": [],
   "source": [
    "def best_coherence(dictionary, corpus, texts):\n",
    "    coherence_values = []\n",
    "    model_list = []\n",
    "    for topic_number in range(5,45,5):\n",
    "        model = gensim.models.ldamodel.LdaModel(corpus=corpus,id2word=id2word,num_topics=topic_number,random_state=100,update_every=1,chunksize=100,passes=10,alpha='auto',per_word_topics=True)\n",
    "        model_list.append(model)\n",
    "        coherencemodel = CoherenceModel(model=model, texts=texts, dictionary=id2word, coherence='c_v')\n",
    "        coherence_values.append(coherencemodel.get_coherence())\n",
    "    return model_list, coherence_values"
   ]
  },
  {
   "cell_type": "code",
   "execution_count": 82,
   "metadata": {},
   "outputs": [],
   "source": [
    "model_list, coherence_values = best_coherence(id2word, corpus, texts)"
   ]
  },
  {
   "cell_type": "code",
   "execution_count": 85,
   "metadata": {
    "scrolled": true
   },
   "outputs": [
    {
     "data": {
      "image/png": "[encoded data removed]",
      "text/plain": [
       "<Figure size 432x288 with 1 Axes>"
      ]
     },
     "metadata": {
      "needs_background": "light"
     },
     "output_type": "display_data"
    }
   ],
   "source": [
    "x = range(5, 45, 5)\n",
    "plt.plot(x, coherence_values)\n",
    "plt.xlabel(\"Num Topics\")\n",
    "plt.ylabel(\"Coherence score\")\n",
    "plt.legend((\"coherence_values\"), loc='best')\n",
    "plt.show()"
   ]
  },
  {
   "cell_type": "markdown",
   "metadata": {},
   "source": [
    "### Обучаем новую модель и получаем её топики"
   ]
  },
  {
   "cell_type": "code",
   "execution_count": 86,
   "metadata": {},
   "outputs": [],
   "source": [
    "lda_model_more_optimal = gensim.models.ldamodel.LdaModel(corpus=corpus,\n",
    "                                           id2word=id2word,\n",
    "                                           num_topics=10, \n",
    "                                           random_state=100,\n",
    "                                           update_every=1,\n",
    "                                           chunksize=100,\n",
    "                                           passes=10,\n",
    "                                           alpha='auto',\n",
    "                                           per_word_topics=True)"
   ]
  },
  {
   "cell_type": "code",
   "execution_count": 87,
   "metadata": {},
   "outputs": [],
   "source": [
    "topics = lda_model_more_optimal.show_topics(num_topics=10, formatted=False)"
   ]
  },
  {
   "cell_type": "markdown",
   "metadata": {},
   "source": [
    "### Подсчет основного топика для каждого текста\n",
    "\n",
    "Проходим по каждому слову, по каждой теме, по всем словам в каждом топике, если слово из текста и слово из топика совпадают, добавляем вес слова в топике в счетчик. Завершив обход, смотрим по словарю-счетчику, какая тема в данном тексте имела больший вес, добавляем эту тему в список с основными темами"
   ]
  },
  {
   "cell_type": "code",
   "execution_count": 105,
   "metadata": {},
   "outputs": [],
   "source": [
    "main_topics = []\n",
    "\n",
    "for text in data_lemmatized:\n",
    "    topics_text = {}\n",
    "    for word in text:\n",
    "        for topic in topics:\n",
    "            for w in topic[1]:\n",
    "                if w[0] == word:\n",
    "                    if topic[0] in list(topics_text.keys()):\n",
    "                        topics_text[topic[0]] += w[1]\n",
    "                    else:\n",
    "                        topics_text[topic[0]] = w[1]\n",
    "    max_v = 0\n",
    "    main_t = 0\n",
    "    for i in topics_text.keys():\n",
    "        if topics_text[i] > max_v:\n",
    "            max_v = topics_text[i]\n",
    "            main_t = i\n",
    "    main_topics.append(main_t)"
   ]
  },
  {
   "cell_type": "markdown",
   "metadata": {},
   "source": [
    " На основе полученных данных строим таблицу"
   ]
  },
  {
   "cell_type": "code",
   "execution_count": 89,
   "metadata": {},
   "outputs": [],
   "source": [
    "dict_dataframe = {'Main topic': main_topics, 'Text': data, 'Words from text': data_lemmatized}\n",
    "\n",
    "df2 = pd.DataFrame(dict_dataframe)"
   ]
  },
  {
   "cell_type": "code",
   "execution_count": 90,
   "metadata": {
    "scrolled": true
   },
   "outputs": [
    {
     "data": {
      "text/html": [
       "<div>\n",
       "<style scoped>\n",
       "    .dataframe tbody tr th:only-of-type {\n",
       "        vertical-align: middle;\n",
       "    }\n",
       "\n",
       "    .dataframe tbody tr th {\n",
       "        vertical-align: top;\n",
       "    }\n",
       "\n",
       "    .dataframe thead th {\n",
       "        text-align: right;\n",
       "    }\n",
       "</style>\n",
       "<table border=\"1\" class=\"dataframe\">\n",
       "  <thead>\n",
       "    <tr style=\"text-align: right;\">\n",
       "      <th></th>\n",
       "      <th>Main topic</th>\n",
       "      <th>Text</th>\n",
       "      <th>Words from text</th>\n",
       "    </tr>\n",
       "  </thead>\n",
       "  <tbody>\n",
       "    <tr>\n",
       "      <td>0</td>\n",
       "      <td>3</td>\n",
       "      <td>From: (wheres my thing) Subject: WHAT car is t...</td>\n",
       "      <td>[where, thing, car, nntp_poste, host, park, li...</td>\n",
       "    </tr>\n",
       "    <tr>\n",
       "      <td>1</td>\n",
       "      <td>7</td>\n",
       "      <td>From: (Guy Kuo) Subject: SI Clock Poll - Final...</td>\n",
       "      <td>[si, poll, final, summary, final, call, si, cl...</td>\n",
       "    </tr>\n",
       "    <tr>\n",
       "      <td>2</td>\n",
       "      <td>3</td>\n",
       "      <td>From: (Thomas E Willis) Subject: PB questions....</td>\n",
       "      <td>[question, engineering, computer, network, dis...</td>\n",
       "    </tr>\n",
       "    <tr>\n",
       "      <td>3</td>\n",
       "      <td>3</td>\n",
       "      <td>From: (Joe Green) Subject: Re: Weitek P9000 ? ...</td>\n",
       "      <td>[division, line, host, amber, write, write, ar...</td>\n",
       "    </tr>\n",
       "    <tr>\n",
       "      <td>4</td>\n",
       "      <td>3</td>\n",
       "      <td>From: (Jonathan McDowell) Subject: Re: Shuttle...</td>\n",
       "      <td>[question, organization, smithsonian_astrophys...</td>\n",
       "    </tr>\n",
       "    <tr>\n",
       "      <td>...</td>\n",
       "      <td>...</td>\n",
       "      <td>...</td>\n",
       "      <td>...</td>\n",
       "    </tr>\n",
       "    <tr>\n",
       "      <td>11309</td>\n",
       "      <td>3</td>\n",
       "      <td>From: (Jim Zisfein) Subject: Re: Migraines and...</td>\n",
       "      <td>[migraine, city, ny_bis, reply, line, cheap, a...</td>\n",
       "    </tr>\n",
       "    <tr>\n",
       "      <td>11310</td>\n",
       "      <td>7</td>\n",
       "      <td>From: Subject: Screen Death: Mac Plus/512 Line...</td>\n",
       "      <td>[problem, screen, blank, sometimes, minor, phy...</td>\n",
       "    </tr>\n",
       "    <tr>\n",
       "      <td>11311</td>\n",
       "      <td>4</td>\n",
       "      <td>From: (Will Estes) Subject: Mounting CPU Coole...</td>\n",
       "      <td>[este, mount, case, organization, mail, group,...</td>\n",
       "    </tr>\n",
       "    <tr>\n",
       "      <td>11312</td>\n",
       "      <td>5</td>\n",
       "      <td>From: (Steven Collins) Subject: Re: Sphere fro...</td>\n",
       "      <td>[line, nntp_poste, host, article, write, boy, ...</td>\n",
       "    </tr>\n",
       "    <tr>\n",
       "      <td>11313</td>\n",
       "      <td>3</td>\n",
       "      <td>From: (Kevin J. Gunning) Subject: stolen CBR90...</td>\n",
       "      <td>[gun, steal, organization, line, distribution_...</td>\n",
       "    </tr>\n",
       "  </tbody>\n",
       "</table>\n",
       "<p>11314 rows × 3 columns</p>\n",
       "</div>"
      ],
      "text/plain": [
       "       Main topic                                               Text  \\\n",
       "0               3  From: (wheres my thing) Subject: WHAT car is t...   \n",
       "1               7  From: (Guy Kuo) Subject: SI Clock Poll - Final...   \n",
       "2               3  From: (Thomas E Willis) Subject: PB questions....   \n",
       "3               3  From: (Joe Green) Subject: Re: Weitek P9000 ? ...   \n",
       "4               3  From: (Jonathan McDowell) Subject: Re: Shuttle...   \n",
       "...           ...                                                ...   \n",
       "11309           3  From: (Jim Zisfein) Subject: Re: Migraines and...   \n",
       "11310           7  From: Subject: Screen Death: Mac Plus/512 Line...   \n",
       "11311           4  From: (Will Estes) Subject: Mounting CPU Coole...   \n",
       "11312           5  From: (Steven Collins) Subject: Re: Sphere fro...   \n",
       "11313           3  From: (Kevin J. Gunning) Subject: stolen CBR90...   \n",
       "\n",
       "                                         Words from text  \n",
       "0      [where, thing, car, nntp_poste, host, park, li...  \n",
       "1      [si, poll, final, summary, final, call, si, cl...  \n",
       "2      [question, engineering, computer, network, dis...  \n",
       "3      [division, line, host, amber, write, write, ar...  \n",
       "4      [question, organization, smithsonian_astrophys...  \n",
       "...                                                  ...  \n",
       "11309  [migraine, city, ny_bis, reply, line, cheap, a...  \n",
       "11310  [problem, screen, blank, sometimes, minor, phy...  \n",
       "11311  [este, mount, case, organization, mail, group,...  \n",
       "11312  [line, nntp_poste, host, article, write, boy, ...  \n",
       "11313  [gun, steal, organization, line, distribution_...  \n",
       "\n",
       "[11314 rows x 3 columns]"
      ]
     },
     "execution_count": 90,
     "metadata": {},
     "output_type": "execute_result"
    }
   ],
   "source": [
    "df2"
   ]
  },
  {
   "cell_type": "markdown",
   "metadata": {},
   "source": [
    "### Добавляем в список всю информацию из строк таблицы"
   ]
  },
  {
   "cell_type": "code",
   "execution_count": 91,
   "metadata": {},
   "outputs": [],
   "source": [
    "list_for_groups = df2.values"
   ]
  },
  {
   "cell_type": "markdown",
   "metadata": {},
   "source": [
    "### Формируем группы\n",
    "\n",
    "Создаем слова, ключами которого будут номера тем, а в значениях будут находиться кортежи с тексами и лемматизированными словами из текстов"
   ]
  },
  {
   "cell_type": "code",
   "execution_count": 92,
   "metadata": {},
   "outputs": [
    {
     "name": "stdout",
     "output_type": "stream",
     "text": [
      "(['sigma_design', 'double', 'article', 'write', 'look', 'information', 'sigma_design', 'double', 'board', 'figure', 'work', 'sure', 'also', 'much', 'would', 'cost', 'have', 'board', 'year', 'work', 'due', 'licensing', 'problem', 'technology', 'owner', 'board', 'compression', 'technology', 'be', 'write', 'memory', 'have', 'lose', 'reference', 'correct', 'be', 'wrong', 'use', 'board', 'have', 'problem', 'file', 'icon', 'lose', 'hard', 'say', 'board', 'fault', 'else', 'however', 'decompress', 'troubled', 'file', 'recompress', 'board', 'icon', 'usually', 'reappear', 'mention', 'licensing', 'problem', 'expansion', 'utility', 'expand', 'compress', 'file', 'board', 'instal', 'stac', 'product', 'seem', 'unlikely', 'hole', 'board', 'fix', 'sad', 'make', 'reluctant', 'buy', 'product', 'be', 'stinky', 's', 'competition', 'compute', 'office', 'phone', 'email'], 'From: (Stan Kerr) Subject: Re: Sigma Designs Double up?? Article-I.D.: ux1.C52u8x.B62 Organization: University of Illinois at Urbana Lines: 29 (Joseph A. Pellettiere) writes: > I am looking for any information about the Sigma Designs > double up board. All I can figure out is that it is a > hardware compression board that works with AutoDoubler, but > I am not sure about this. Also how much would one cost? Ive had the board for over a year, and it does work with Diskdoubler, but not with Autodoubler, due to a licensing problem with Stac Technologies, the owners of the boards compression technology. (Im writing this from memory; Ive lost the reference. Please correct me if Im wrong.) Using the board, Ive had problems with file icons being lost, but its hard to say whether its the boards fault or something else; however, if I decompress the troubled file and recompress it without the board, the icon usually reappears. Because of the above mentioned licensing problem, the freeware expansion utility DD Expand will not decompress a board-compressed file unless you have the board installed. Since Stac has its own product now, it seems unlikely that the holes in Autodoubler/Diskdoubler related to the board will be fixed. Which is sad, and makes me very reluctant to buy Stacs product since theyre being so stinky. (But hey, thats competition.) -- Stan Kerr Computing & Communications Services Office, U of Illinois/Urbana Phone: 217-333-5217 Email: ')\n"
     ]
    }
   ],
   "source": [
    "groups = {}\n",
    "\n",
    "for row in list_for_groups:\n",
    "    if row[0] not in list(groups.keys()):\n",
    "        groups[row[0]] = []\n",
    "    groups[row[0]].append((row[2],row[1]))\n",
    "print(groups[0][0])"
   ]
  },
  {
   "cell_type": "markdown",
   "metadata": {},
   "source": [
    "### Функции по подсчету IDF, TF  и TF_IDF"
   ]
  },
  {
   "cell_type": "code",
   "execution_count": 93,
   "metadata": {},
   "outputs": [],
   "source": [
    "def computeIDF(documents):\n",
    "    N = len(documents)\n",
    "    idfDict = dict.fromkeys(documents[0].keys(), 0)\n",
    "    for document in documents: \n",
    "        for word, val in document.items():\n",
    "            if val > 0:\n",
    "                if word not in idfDict.keys():\n",
    "                    idfDict[word] = 0\n",
    "                idfDict[word] += 1\n",
    "    \n",
    "    for word, val in idfDict.items():\n",
    "        idfDict[word] = math.log(N / float(val))\n",
    "    return idfDict"
   ]
  },
  {
   "cell_type": "code",
   "execution_count": 94,
   "metadata": {},
   "outputs": [],
   "source": [
    "def computeTF(wordDict, bagOfWords):\n",
    "    tfDict = {}\n",
    "    bagOfWordsCount = len(bagOfWords)\n",
    "    for word, count in wordDict.items():\n",
    "        tfDict[word] = count / float(bagOfWordsCount)\n",
    "    return tfDict"
   ]
  },
  {
   "cell_type": "code",
   "execution_count": 95,
   "metadata": {},
   "outputs": [],
   "source": [
    "def computeTFIDF(tfBagOfWords, idfs):\n",
    "    tfidf = {}\n",
    "    for word, val in tfBagOfWords.items():\n",
    "        tfidf[word] = val * idfs[word]\n",
    "    return tfidf"
   ]
  },
  {
   "cell_type": "markdown",
   "metadata": {},
   "source": [
    "### Функция для обработки групп\n",
    "\n",
    "В неё поступает словарь из групп и номер группы, которая должна сейчас обрабатываться. \n",
    "\n",
    "В ней мы проходим по всем текстам группы, создаем их Counter, чтобы понять сколько раз слово встречалось в своем тексте, список этих Counter (точнее словарей из них) подаём в функцию, считающую IDFs, затем идем по-очереди по всем текстам, считаем TF, TF_IDF и находим 5 слов с самым большим TF_IDF, создаем из них список.\n",
    "\n",
    "В конце  создаем кортеж из номера основного топика, самого текста и 5 ключевых слов, кортежи для каждого текста собираем в список. Этот список и возвращает функция."
   ]
  },
  {
   "cell_type": "code",
   "execution_count": 96,
   "metadata": {},
   "outputs": [],
   "source": [
    "def coun_tfidf(groups, group_number):\n",
    "    group = list(groups.values())[group_number]\n",
    "    list_of_counters = []\n",
    "    final_list = []\n",
    "    for text in group:\n",
    "        list_of_counters.append(dict(Counter(text[0])))\n",
    "    idfs_group = computeIDF(list_of_counters)\n",
    "    for text in group:\n",
    "        TF = computeTF(dict(Counter(text[0])), text[0])\n",
    "        TFIDF = computeTFIDF(TF, idfs_group)\n",
    "        help_list = []\n",
    "        for i in Counter(TFIDF).most_common(5):\n",
    "            help_list.append(i[0])\n",
    "        final_tuple = (group_number, text[1], help_list)\n",
    "        final_list.append(final_tuple)\n",
    "    return final_list"
   ]
  },
  {
   "cell_type": "markdown",
   "metadata": {},
   "source": [
    "### Запускаем функцию для вех групп, формируем финальный список кортежей"
   ]
  },
  {
   "cell_type": "code",
   "execution_count": 97,
   "metadata": {},
   "outputs": [
    {
     "name": "stdout",
     "output_type": "stream",
     "text": [
      "(3, 'From: (Stan Kerr) Subject: Re: Sigma Designs Double up?? Article-I.D.: ux1.C52u8x.B62 Organization: University of Illinois at Urbana Lines: 29 (Joseph A. Pellettiere) writes: > I am looking for any information about the Sigma Designs > double up board. All I can figure out is that it is a > hardware compression board that works with AutoDoubler, but > I am not sure about this. Also how much would one cost? Ive had the board for over a year, and it does work with Diskdoubler, but not with Autodoubler, due to a licensing problem with Stac Technologies, the owners of the boards compression technology. (Im writing this from memory; Ive lost the reference. Please correct me if Im wrong.) Using the board, Ive had problems with file icons being lost, but its hard to say whether its the boards fault or something else; however, if I decompress the troubled file and recompress it without the board, the icon usually reappears. Because of the above mentioned licensing problem, the freeware expansion utility DD Expand will not decompress a board-compressed file unless you have the board installed. Since Stac has its own product now, it seems unlikely that the holes in Autodoubler/Diskdoubler related to the board will be fixed. Which is sad, and makes me very reluctant to buy Stacs product since theyre being so stinky. (But hey, thats competition.) -- Stan Kerr Computing & Communications Services Office, U of Illinois/Urbana Phone: 217-333-5217 Email: ', ['board', 'sigma_design', 'licensing', 'double', 'lose'])\n"
     ]
    }
   ],
   "source": [
    "final_list_for_df = []\n",
    "for i in groups:\n",
    "    final_list_for_df.extend(coun_tfidf(groups, i))\n",
    "print(final_list_for_df[0])"
   ]
  },
  {
   "cell_type": "markdown",
   "metadata": {},
   "source": [
    "Из полученного списка кортежей делаем словарь, и по нему строим финальную таблицу"
   ]
  },
  {
   "cell_type": "code",
   "execution_count": 98,
   "metadata": {},
   "outputs": [],
   "source": [
    "main_topic_number = []\n",
    "this_text = []\n",
    "key_words = []\n",
    "\n",
    "for inf in final_list_for_df:\n",
    "    main_topic_number.append(inf[0])\n",
    "    this_text.append(inf[1])\n",
    "    key_words.append(inf[2])\n",
    "\n",
    "dict_df_final = {'Main Topic': main_topic_number, \n",
    "                 'Text': this_text,\n",
    "                 'Key words': key_words}\n",
    "\n",
    "df_final = pd.DataFrame(dict_df_final)"
   ]
  },
  {
   "cell_type": "code",
   "execution_count": 99,
   "metadata": {},
   "outputs": [
    {
     "data": {
      "text/html": [
       "<div>\n",
       "<style scoped>\n",
       "    .dataframe tbody tr th:only-of-type {\n",
       "        vertical-align: middle;\n",
       "    }\n",
       "\n",
       "    .dataframe tbody tr th {\n",
       "        vertical-align: top;\n",
       "    }\n",
       "\n",
       "    .dataframe thead th {\n",
       "        text-align: right;\n",
       "    }\n",
       "</style>\n",
       "<table border=\"1\" class=\"dataframe\">\n",
       "  <thead>\n",
       "    <tr style=\"text-align: right;\">\n",
       "      <th></th>\n",
       "      <th>Main Topic</th>\n",
       "      <th>Text</th>\n",
       "      <th>Key words</th>\n",
       "    </tr>\n",
       "  </thead>\n",
       "  <tbody>\n",
       "    <tr>\n",
       "      <td>0</td>\n",
       "      <td>3</td>\n",
       "      <td>From: (Stan Kerr) Subject: Re: Sigma Designs D...</td>\n",
       "      <td>[board, sigma_design, licensing, double, lose]</td>\n",
       "    </tr>\n",
       "    <tr>\n",
       "      <td>1</td>\n",
       "      <td>3</td>\n",
       "      <td>From: (Allen B) Subject: Re: TIFF: philosophic...</td>\n",
       "      <td>[tiff, complexity, inability, image, significa...</td>\n",
       "    </tr>\n",
       "    <tr>\n",
       "      <td>2</td>\n",
       "      <td>3</td>\n",
       "      <td>From: (Ann Marie Barden) Subject: X-Terminal C...</td>\n",
       "      <td>[ncd, boot, terminal, control, access]</td>\n",
       "    </tr>\n",
       "    <tr>\n",
       "      <td>3</td>\n",
       "      <td>3</td>\n",
       "      <td>From: (Chris Syphers) Subject: Re: ?? DOS font...</td>\n",
       "      <td>[font, uafhp, uark, funky, hpoe]</td>\n",
       "    </tr>\n",
       "    <tr>\n",
       "      <td>4</td>\n",
       "      <td>3</td>\n",
       "      <td>From: (Sam Latonia) Subject: Re: Need phone nu...</td>\n",
       "      <td>[western_digital, love, crash, phone, copy]</td>\n",
       "    </tr>\n",
       "    <tr>\n",
       "      <td>...</td>\n",
       "      <td>...</td>\n",
       "      <td>...</td>\n",
       "      <td>...</td>\n",
       "    </tr>\n",
       "    <tr>\n",
       "      <td>11309</td>\n",
       "      <td>9</td>\n",
       "      <td>From: (Marty Leisner 71348 ) Subject: Intraven...</td>\n",
       "      <td>[intravenous, antibiotic, give, leisner, xerox]</td>\n",
       "    </tr>\n",
       "    <tr>\n",
       "      <td>11310</td>\n",
       "      <td>9</td>\n",
       "      <td>From: (Tony Alicea) Subject: Re: Rosicrucian O...</td>\n",
       "      <td>[name, group, correct, rosicrucian, even]</td>\n",
       "    </tr>\n",
       "    <tr>\n",
       "      <td>11311</td>\n",
       "      <td>9</td>\n",
       "      <td>From: (Thyagi Morgoth NagaSiva) Subject: Re: O...</td>\n",
       "      <td>[metaphysical, love, word, true, apparently]</td>\n",
       "    </tr>\n",
       "    <tr>\n",
       "      <td>11312</td>\n",
       "      <td>9</td>\n",
       "      <td>From: ( ) Subject: horse breeding and saling R...</td>\n",
       "      <td>[horse, firm, class, breeding, sale]</td>\n",
       "    </tr>\n",
       "    <tr>\n",
       "      <td>11313</td>\n",
       "      <td>9</td>\n",
       "      <td>From: (David Dodell) Subject: HICN610 Medical ...</td>\n",
       "      <td>[child, age, report, increase, program]</td>\n",
       "    </tr>\n",
       "  </tbody>\n",
       "</table>\n",
       "<p>11314 rows × 3 columns</p>\n",
       "</div>"
      ],
      "text/plain": [
       "       Main Topic                                               Text  \\\n",
       "0               3  From: (Stan Kerr) Subject: Re: Sigma Designs D...   \n",
       "1               3  From: (Allen B) Subject: Re: TIFF: philosophic...   \n",
       "2               3  From: (Ann Marie Barden) Subject: X-Terminal C...   \n",
       "3               3  From: (Chris Syphers) Subject: Re: ?? DOS font...   \n",
       "4               3  From: (Sam Latonia) Subject: Re: Need phone nu...   \n",
       "...           ...                                                ...   \n",
       "11309           9  From: (Marty Leisner 71348 ) Subject: Intraven...   \n",
       "11310           9  From: (Tony Alicea) Subject: Re: Rosicrucian O...   \n",
       "11311           9  From: (Thyagi Morgoth NagaSiva) Subject: Re: O...   \n",
       "11312           9  From: ( ) Subject: horse breeding and saling R...   \n",
       "11313           9  From: (David Dodell) Subject: HICN610 Medical ...   \n",
       "\n",
       "                                               Key words  \n",
       "0         [board, sigma_design, licensing, double, lose]  \n",
       "1      [tiff, complexity, inability, image, significa...  \n",
       "2                 [ncd, boot, terminal, control, access]  \n",
       "3                       [font, uafhp, uark, funky, hpoe]  \n",
       "4            [western_digital, love, crash, phone, copy]  \n",
       "...                                                  ...  \n",
       "11309    [intravenous, antibiotic, give, leisner, xerox]  \n",
       "11310          [name, group, correct, rosicrucian, even]  \n",
       "11311       [metaphysical, love, word, true, apparently]  \n",
       "11312               [horse, firm, class, breeding, sale]  \n",
       "11313            [child, age, report, increase, program]  \n",
       "\n",
       "[11314 rows x 3 columns]"
      ]
     },
     "execution_count": 99,
     "metadata": {},
     "output_type": "execute_result"
    }
   ],
   "source": [
    "df_final"
   ]
  }
 ],
 "metadata": {
  "kernelspec": {
   "display_name": "Python 3",
   "language": "python",
   "name": "python3"
  },
  "language_info": {
   "codemirror_mode": {
    "name": "ipython",
    "version": 3
   },
   "file_extension": ".py",
   "mimetype": "text/x-python",
   "name": "python",
   "nbconvert_exporter": "python",
   "pygments_lexer": "ipython3",
   "version": "3.7.0"
  }
 },
 "nbformat": 4,
 "nbformat_minor": 2
}
